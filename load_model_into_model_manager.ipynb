{
 "cells": [
  {
   "cell_type": "code",
   "execution_count": 4,
   "metadata": {},
   "outputs": [],
   "source": [
    "import random\n",
    "\n",
    "from model_manager_for_web_app import ModelManager, ManagedModel\n",
    "from unified_image_reader import Image\n",
    "\n",
    "from load_model_into_model_manager import WrappedModel"
   ]
  },
  {
   "cell_type": "code",
   "execution_count": 5,
   "metadata": {},
   "outputs": [],
   "source": [
    "def get_model_for_model_manager():\n",
    "    return WrappedModel()"
   ]
  },
  {
   "cell_type": "code",
   "execution_count": 6,
   "metadata": {},
   "outputs": [],
   "source": [
    "model_name = \"testyboi\"\n",
    "model = get_model_for_model_manager()\n",
    "model_manager = ModelManager()\n",
    "model_manager.save_model(\n",
    "    model_name,\n",
    "    model,\n",
    "    {\n",
    "        \"description\": \"this is obviously a test model\"\n",
    "    },\n",
    "    overwrite_model=True\n",
    ")"
   ]
  },
  {
   "cell_type": "code",
   "execution_count": 7,
   "metadata": {},
   "outputs": [
    {
     "name": "stdout",
     "output_type": "stream",
     "text": [
      "{'description': 'this is obviously a test model'}\n"
     ]
    }
   ],
   "source": [
    "# test the model real quick\n",
    "print(model_manager.get_model_info(model_name))\n",
    "model = model_manager.load_model(model_name)"
   ]
  },
  {
   "cell_type": "code",
   "execution_count": 28,
   "metadata": {},
   "outputs": [
    {
     "data": {
      "text/plain": [
       "0.676"
      ]
     },
     "execution_count": 28,
     "metadata": {},
     "output_type": "execute_result"
    }
   ],
   "source": [
    "def region_stream(n):\n",
    "    for _ in range(n):\n",
    "        yield None\n",
    "    return None\n",
    "model.diagnose(region_stream(1000))"
   ]
  }
 ],
 "metadata": {
  "interpreter": {
   "hash": "d4d1e4263499bec80672ea0156c357c1ee493ec2b1c70f0acce89fc37c4a6abe"
  },
  "kernelspec": {
   "display_name": "Python 3.9.7 ('base')",
   "language": "python",
   "name": "python3"
  },
  "language_info": {
   "codemirror_mode": {
    "name": "ipython",
    "version": 3
   },
   "file_extension": ".py",
   "mimetype": "text/x-python",
   "name": "python",
   "nbconvert_exporter": "python",
   "pygments_lexer": "ipython3",
   "version": "3.9.7"
  },
  "orig_nbformat": 4
 },
 "nbformat": 4,
 "nbformat_minor": 2
}

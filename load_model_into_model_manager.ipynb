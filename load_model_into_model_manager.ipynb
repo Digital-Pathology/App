{
 "cells": [
  {
   "cell_type": "code",
   "execution_count": 1,
   "metadata": {},
   "outputs": [],
   "source": [
    "from model_manager import ModelManager\n",
    "from model_manager_for_web_app import ModelManager as ModelManagerForWebApp\n",
    "\n",
    "from load_model_into_model_manager import WrappedModel"
   ]
  },
  {
   "cell_type": "code",
   "execution_count": 2,
   "metadata": {},
   "outputs": [],
   "source": [
    "def get_model_for_model_manager(vanilla_model_name):\n",
    "    # currently aggregates a model that has model.diagnose_region(region)\n",
    "    vanilla_model_manager = ModelManager(\"/workspaces/dev-container/testing/models\")\n",
    "    vanilla_model = vanilla_model_manager.load_model(vanilla_model_name)\n",
    "    model = WrappedModel(vanilla_model)\n",
    "    return model"
   ]
  },
  {
   "cell_type": "code",
   "execution_count": 3,
   "metadata": {},
   "outputs": [],
   "source": [
    "model = get_model_for_model_manager(\"testy\")\n",
    "model_name = \"kevin_initial\"\n",
    "\n",
    "model_manager = ModelManagerForWebApp()\n",
    "model_manager.save_model(\n",
    "    model_name,\n",
    "    model,\n",
    "    {\n",
    "        \"description\": \"this model was trained briefly to demonstrate complete functionality\"\n",
    "    },\n",
    "    overwrite_model=True\n",
    ")"
   ]
  },
  {
   "cell_type": "code",
   "execution_count": 4,
   "metadata": {},
   "outputs": [
    {
     "data": {
      "text/plain": [
       "['kevin_initial.model',\n",
       " 'kevin_initial.model_info',\n",
       " 'testyboi.model',\n",
       " 'testyboi.model_info']"
      ]
     },
     "execution_count": 4,
     "metadata": {},
     "output_type": "execute_result"
    }
   ],
   "source": [
    "import os\n",
    "os.listdir(\"/workspaces/dev-container/WebApp/models\")"
   ]
  },
  {
   "cell_type": "code",
   "execution_count": 5,
   "metadata": {},
   "outputs": [
    {
     "name": "stdout",
     "output_type": "stream",
     "text": [
      "{'description': 'this model was trained briefly to demonstrate complete functionality'}\n"
     ]
    }
   ],
   "source": [
    "# test the model real quick\n",
    "print(model_manager.get_model_info(model_name))\n",
    "model = model_manager.load_model(model_name)"
   ]
  }
 ],
 "metadata": {
  "interpreter": {
   "hash": "d4d1e4263499bec80672ea0156c357c1ee493ec2b1c70f0acce89fc37c4a6abe"
  },
  "kernelspec": {
   "display_name": "Python 3.9.7 ('base')",
   "language": "python",
   "name": "python3"
  },
  "language_info": {
   "codemirror_mode": {
    "name": "ipython",
    "version": 3
   },
   "file_extension": ".py",
   "mimetype": "text/x-python",
   "name": "python",
   "nbconvert_exporter": "python",
   "pygments_lexer": "ipython3",
   "version": "3.9.7"
  },
  "orig_nbformat": 4
 },
 "nbformat": 4,
 "nbformat_minor": 2
}
